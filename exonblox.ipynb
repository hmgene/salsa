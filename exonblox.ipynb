{
  "nbformat": 4,
  "nbformat_minor": 0,
  "metadata": {
    "colab": {
      "name": "exonblox.ipynb",
      "provenance": [],
      "collapsed_sections": [],
      "toc_visible": true,
      "include_colab_link": true
    },
    "kernelspec": {
      "name": "python3",
      "display_name": "Python 3"
    }
  },
  "cells": [
    {
      "cell_type": "markdown",
      "metadata": {
        "id": "view-in-github",
        "colab_type": "text"
      },
      "source": [
        "<a href=\"https://colab.research.google.com/github/hmgene/salsa/blob/master/exonblox.ipynb\" target=\"_parent\"><img src=\"https://colab.research.google.com/assets/colab-badge.svg\" alt=\"Open In Colab\"/></a>"
      ]
    },
    {
      "cell_type": "markdown",
      "metadata": {
        "id": "iNXoxsmXWDnp",
        "colab_type": "text"
      },
      "source": [
        "## Definition of Alternative Splicing Events  \n",
        "Frequent splicing events are exon skipping (ES), mutually exclusive exons (ME), intron retention (IR), alternative donor (AD) and acceptor (AA) sites (PMID: 3304142). There is a general nomenclature to describe more complex events (PMID: 18688268). However, there are many problems with implementing defined events as computer programs. In this project we describe the splicing events with pseudo languages to be compiled into a programming language, python.\n",
        "\n",
        "In this project, an **interval** is defined as an integer interval on a zero-base, half-open coordinate system. Using the interval we define exons linked by introns as a transcript on a chromosome. An exonic interval represents a contiguous fragment of a transcript. An intronic interval denotes splicing occuring between exons. \n",
        "We define some splicing events on a positive-stranded transcript (the events on a negative-strand is simply defined by swithcing 3 and 5 in their terminology.\n",
        "\n",
        "**Alternative Acceptor (AA)** : two or more intronic intervals having the same donor or 5' site compose this event, represented by \n",
        "$ \\{ (a,b) | \\forall b > a \\}  $\n",
        "\n",
        "**Alternative Donor sites (AD)** : the same as A3 except the condition of the same acceptor or 3' site, represented by $\\{ (a,b) | \\forall a < b \\} $\n",
        "\n",
        "**Exon Skipping (ES)** : three intronic intervals with four sites, represented by $\\{ (a,b),(a,d),(c,d) | b < c \\} $\n",
        "\n",
        "**Intron Retention (IR)**: one intronic interval overlapping with two unsplicing sites, represented by $\\{ (a,b),(a-k,a+k),(b-k,b+k) |  b-a > k > 0 \\} $  "
      ]
    },
    {
      "cell_type": "markdown",
      "metadata": {
        "id": "s1d6_O8TZihn",
        "colab_type": "text"
      },
      "source": [
        "## Data preparation\n",
        "### Prepare a GTF file\n",
        "\n",
        "1.   preprocess a GTF file: download data from ftp://ftp.ebi.ac.uk/pub/databases/gencode/Gencode_human/release_19/gencode.v19.annotation.gtf.gz and make an index (http://www.htslib.org/doc/tabix.html):\n",
        "```\n",
        "#!/bin/bash\n",
        "i=gencode.v19.annotation.gtf.gz\n",
        "o=gencode.v19.annotation.sorted.gtf.gz\n",
        "(gunzip -dc $i | grep ^\"#\" ; gunzip -dc $i | grep -v ^\"#\" | sort -k1,1 -k4,4n) | bgzip > $o;\n",
        "tabix -p gff $o;\n",
        "#result files\n",
        "#gencode.v19.annotation.sorted.gtf.#gz\n",
        "#gencode.v19.annotation.sorted.gtf.gz.tbi\n",
        "```\n",
        "\n",
        "### Install some tools\n"
      ]
    },
    {
      "cell_type": "code",
      "metadata": {
        "id": "C4p1D8hIFBeh",
        "colab_type": "code",
        "colab": {
          "base_uri": "https://localhost:8080/",
          "height": 241
        },
        "outputId": "3afd6744-155e-4b4c-9219-50b4267ad2fc"
      },
      "source": [
        "!pip install pysam\n",
        "!pip install pybedtools\n",
        "!apt-get install bedtools"
      ],
      "execution_count": null,
      "outputs": [
        {
          "output_type": "stream",
          "text": [
            "Requirement already satisfied: pysam in /usr/local/lib/python3.6/dist-packages (0.16.0.1)\n",
            "Requirement already satisfied: pybedtools in /usr/local/lib/python3.6/dist-packages (0.8.1)\n",
            "Requirement already satisfied: pysam in /usr/local/lib/python3.6/dist-packages (from pybedtools) (0.16.0.1)\n",
            "Requirement already satisfied: six in /usr/local/lib/python3.6/dist-packages (from pybedtools) (1.12.0)\n",
            "Reading package lists... Done\n",
            "Building dependency tree       \n",
            "Reading state information... Done\n",
            "bedtools is already the newest version (2.26.0+dfsg-5).\n",
            "The following package was automatically installed and is no longer required:\n",
            "  libnvidia-common-440\n",
            "Use 'apt autoremove' to remove it.\n",
            "0 upgraded, 0 newly installed, 0 to remove and 59 not upgraded.\n"
          ],
          "name": "stdout"
        }
      ]
    },
    {
      "cell_type": "markdown",
      "metadata": {
        "id": "TtZLILjHsJNU",
        "colab_type": "text"
      },
      "source": [
        ""
      ]
    },
    {
      "cell_type": "code",
      "metadata": {
        "id": "V-JYZliThdG_",
        "colab_type": "code",
        "colab": {
          "base_uri": "https://localhost:8080/",
          "height": 368
        },
        "outputId": "812e456d-81a6-4dda-eccd-a3a4dec1699c"
      },
      "source": [
        "import pysam\n",
        "import glob\n",
        "import re\n",
        "## put your target genes \n",
        "txt='''\n",
        "VEGFA\n",
        "IGFBP1\n",
        "IGFBP3\n",
        "THBS1\n",
        "EDN1\n",
        "PTK2\n",
        "SF3B2\n",
        "CSTF2\n",
        "DDX46\n",
        "U2SURP'''\n",
        "TARGET_GENE={ i: 1 for i in filter(lambda x : x != \"\", txt.splitlines()) }\n",
        "\n",
        "GTF=\"http://amc-sandbox.ucdenver.edu/User50/hmk/gencode.v19.annotation.gtf.gz\"\n",
        "try:\n",
        "  pysam.TabixFile(GTF,'r').fetch( parser=pysam.asTuple())\n",
        "except OSError:\n",
        "  from google.colab import drive\n",
        "  drive.mount('/content/drive')\n",
        "  GTF=\"/content/drive/My Drive/proj/rebeccaSchweppe/gencode.v19.annotation.sorted.gtf.gz\"\n",
        "#data_files = glob.glob(\"/content/drive/My Drive/proj/rebeccaSchweppe/*.gz\")\n",
        "\n",
        "txt='''\n",
        "SW1736_DasRes http://amc-sandbox.ucdenver.edu/User50/rebeccaSchweppe/hg19/SW1736_DasRes.bam\n",
        "SW1736_Control http://amc-sandbox.ucdenver.edu/User50/rebeccaSchweppe/hg19/Sw1736_Control.bam\n",
        "BCPAP_DasRes  http://amc-sandbox.ucdenver.edu/User50/rebeccaSchweppe/hg19/BCPAP_DasRes.bam\n",
        "BCPAP_Control http://amc-sandbox.ucdenver.edu/User50/rebeccaSchweppe/hg19/BCPAP_Control.bam'''\n",
        "fh=open(\"bam.tsv\",\"w\")\n",
        "fh.write(txt)\n",
        "fh.close()\n",
        "\n",
        "GENE=dict();\n",
        "for rec in pysam.TabixFile(GTF,'r').fetch( parser=pysam.asTuple()):\n",
        "  if rec[2] == \"exon\":\n",
        "    for g in re.findall(\"gene_name \\\"(\\w+)\\\"\",rec[8]):\n",
        "      if g in TARGET_GENE:\n",
        "        for tx in re.findall(\"transcript_id \\\"([\\w\\.]+)\\\"\",rec[8]):\n",
        "          chrom,gene,strand,start,end =(rec[0],g,rec[6], int(rec[3]),int(rec[4]))\n",
        "          k=(chrom,gene,strand)\n",
        "          GENE[k]=GENE.get(k,{})\n",
        "          GENE[k][tx]=GENE[k].get(tx,[])\n",
        "          GENE[k][tx].append((start,end))\n",
        "\n",
        "\n",
        "def gene_boundary(genedata):\n",
        "  for k in genedata:\n",
        "    chrom,gene,strand=k\n",
        "    x=[]\n",
        "    for tx in genedata[k]:\n",
        "      x=x+[ j for i in genedata[k][tx] for j in i]\n",
        "    #cloc=\"%s:%d-%d\" % (chrom,min(x),max(x));\n",
        "    yield (k+(min(x),max(x)))\n",
        "print(\"hi\",GENE)\n",
        "for i in gene_boundary(GENE):\n",
        "  cloc=\"%s\\t%s:%d-%d\" % (i[1],i[0][3:len(i[0])],i[3],i[4])\n",
        "  print(cloc)\n",
        "\n",
        "#!cat bam.tsv"
      ],
      "execution_count": 1,
      "outputs": [
        {
          "output_type": "error",
          "ename": "ModuleNotFoundError",
          "evalue": "ignored",
          "traceback": [
            "\u001b[0;31m---------------------------------------------------------------------------\u001b[0m",
            "\u001b[0;31mModuleNotFoundError\u001b[0m                       Traceback (most recent call last)",
            "\u001b[0;32m<ipython-input-1-1c1ea77e7de7>\u001b[0m in \u001b[0;36m<module>\u001b[0;34m()\u001b[0m\n\u001b[0;32m----> 1\u001b[0;31m \u001b[0;32mimport\u001b[0m \u001b[0mpysam\u001b[0m\u001b[0;34m\u001b[0m\u001b[0;34m\u001b[0m\u001b[0m\n\u001b[0m\u001b[1;32m      2\u001b[0m \u001b[0;32mimport\u001b[0m \u001b[0mglob\u001b[0m\u001b[0;34m\u001b[0m\u001b[0;34m\u001b[0m\u001b[0m\n\u001b[1;32m      3\u001b[0m \u001b[0;32mimport\u001b[0m \u001b[0mre\u001b[0m\u001b[0;34m\u001b[0m\u001b[0;34m\u001b[0m\u001b[0m\n\u001b[1;32m      4\u001b[0m \u001b[0;31m## put your target genes\u001b[0m\u001b[0;34m\u001b[0m\u001b[0;34m\u001b[0m\u001b[0;34m\u001b[0m\u001b[0m\n\u001b[1;32m      5\u001b[0m txt='''\n",
            "\u001b[0;31mModuleNotFoundError\u001b[0m: No module named 'pysam'",
            "",
            "\u001b[0;31m---------------------------------------------------------------------------\u001b[0;32m\nNOTE: If your import is failing due to a missing package, you can\nmanually install dependencies using either !pip or !apt.\n\nTo view examples of installing some common dependencies, click the\n\"Open Examples\" button below.\n\u001b[0;31m---------------------------------------------------------------------------\u001b[0m\n"
          ]
        }
      ]
    },
    {
      "cell_type": "code",
      "metadata": {
        "id": "POlcE84yYM9G",
        "colab_type": "code",
        "colab": {
          "base_uri": "https://localhost:8080/",
          "height": 34
        },
        "outputId": "0b4d7ee8-8919-47e4-d8de-f117c71df47c"
      },
      "source": [
        "import pybedtools\n",
        "pybedtools.set_bedtools_path(path=\"/usr/bin/\")\n",
        "from matplotlib import pyplot as plt\n",
        "\n",
        "def count_intersect(a,b):\n",
        "  a_str=\"\"\n",
        "  b_str=\"\"\n",
        "  for s in a : a_str += \"c %s %s\\n\" % (s)\n",
        "  for s in b: b_str += \"c %s %s\\n\" % (s)\n",
        "  a1=pybedtools.BedTool(a_str,from_string=True)\n",
        "  b1=pybedtools.BedTool(b_str,from_string=True)\n",
        "  for i in a1.intersect(b1,c=True):\n",
        "    if(int(i[3])>0):\n",
        "      yield (int(i[1]),int(i[2]),int(i[3]))\n",
        "\n",
        "print( [ i for i in count_intersect([(1,3)],[(2,4)])] )"
      ],
      "execution_count": null,
      "outputs": [
        {
          "output_type": "stream",
          "text": [
            "[(1, 3, 1)]\n"
          ],
          "name": "stdout"
        }
      ]
    },
    {
      "cell_type": "code",
      "metadata": {
        "id": "j9nt5l_zfn2Z",
        "colab_type": "code",
        "colab": {
          "base_uri": "https://localhost:8080/",
          "height": 375
        },
        "outputId": "c7f3b5e5-ff34-4196-fddd-dcce5030dc36"
      },
      "source": [
        "import pysam\n",
        "import sys\n",
        "import numpy\n",
        "import pybedtools\n",
        "\n",
        "from matplotlib import pyplot as plt\n",
        "\n",
        "def cigar_to_interval(cigarstr):\n",
        "  rp=0 #reference pos\n",
        "  qp=0 #query read pos\n",
        "  res=[]\n",
        "  for i in re.findall( \"(\\d+)([MDNIX=HSP])\",cigarstr):\n",
        "    l=int(i[0])\n",
        "    if(re.match('[M=X]',i[1])):\n",
        "      res.append((rp,rp+l))\n",
        "      qp += l; rp += l\n",
        "    elif(re.match('[DN]',i[1])):\n",
        "      rp += l\n",
        "    elif(re.match('[IS]',i[1])):\n",
        "      qp += l\n",
        "  return res    \n",
        "#print(cigar_to_interval(\"10M340N91M\"))\n",
        "\n",
        "'''\n",
        "  convert sam entry to list of intervals to represent\n",
        "  both spliced [(a,b),(c,d)] and unspliced intervals [(a,b)] \n",
        "'''\n",
        "def sam_to_interval(region):\n",
        "  return [ (region.reference_start+i[0] - 1,\n",
        "            region.reference_start+i[1] - 1)  \n",
        "      for i in cigar_to_interval(region.cigarstring) ]\n",
        "\n",
        "def density_interval(exon):\n",
        "  z=dict()\n",
        "  for y in exon:\n",
        "    z[y[0]]=z.get(y[0],0) +1\n",
        "    z[y[1]]=z.get(y[1],0) -1\n",
        "  c=0;\n",
        "  r=[]\n",
        "  z1=sorted(z.keys())\n",
        "  for i in range(len(z1)-1): \n",
        "    c=c+z[z1[i]];\n",
        "    r.append((z1[i],z1[i+1],c))\n",
        "  return r\n",
        "#print(density_interval([(1,2),(4,5)]))\n",
        "\n",
        "def plot_density(density,title,xlim):\n",
        "  d=sorted(density,key=lambda x : x[0])\n",
        "  d1=[d[0]]\n",
        "  for i in range(1,len(d)):\n",
        "    if d[i-1][1] != d[i][0]:\n",
        "      d1.append( (d[i-1][1],d[i][0],0))\n",
        "    d1.append(d[i])\n",
        "  print(title)\n",
        "  x=[ j for i in d1 for j in i[0:2] ]\n",
        "  y=[ j for i in d1 for j in [i[2],i[2]] ]\n",
        "  plt.figure(figsize=(20,2))\n",
        "  ax=plt.axes();\n",
        "  #fig, ax = plt.subplots(num=None, figsize=(20, 3), dpi=80, facecolor='w', edgecolor='k')\n",
        "  ax.fill_between(x, y) \n",
        "  ax.set_xlim(xlim)\n",
        "  #plt.title(title)\n",
        "  plt.show()\n",
        "\n",
        "\n",
        "def interval_to_junction(interval):\n",
        "  r={}\n",
        "  for x in interval:\n",
        "    for i in range(1,len(x)):\n",
        "      k=(x[i-1][1],x[i][0]) # junction\n",
        "      r[k]=r.get(k,0)+1\n",
        "  return r\n",
        "#print(interval_to_junction([[(1,2),(4,5)]]))\n",
        "\n",
        "def join_junctions(junctions):\n",
        "  r={}\n",
        "  for i in range(len(junctions)):\n",
        "    for j in junctions[i]:\n",
        "      r[j]=r.get(j,[0,]*len(junctions))\n",
        "      r[j][i] += junctions[i][j]\n",
        "  return r\n",
        "\n",
        "def _psi_filter(m,mins,mind):\n",
        "    ok=False\n",
        "    f=numpy.array(m,dtype='f')\n",
        "    if( m.sum() >= mins ):\n",
        "        for i in range(f.ndim):\n",
        "          f[i,]=[j/(sum(f[i,:])) for j in f[i,:]] # row frequency\n",
        "        for j in range(f.transpose().ndim):\n",
        "          d=(max(f[:,j])-min(f[:,j]))\n",
        "          if d >= mind: ok=True \n",
        "        if(ok): yield f \n",
        "\n",
        "def a35(junctions,mins,mind,strand):\n",
        "  r={}\n",
        "  for i in junctions:\n",
        "    r[i[0]]=r.get(i[0],{})\n",
        "    r[i[0]][i[1]]=junctions[i]\n",
        "    r[i[1]]=r.get(i[1],{})\n",
        "    r[i[1]][i[0]]=junctions[i]\n",
        "  for a in r:\n",
        "    k=[ b for b in filter(lambda x: x> a, r[a]) ]\n",
        "    if len(k) > 1: \n",
        "      m=numpy.array( [ r[a][b] for b in k] ).transpose()\n",
        "      for f in _psi_filter(m,mins,mind):\n",
        "        ty=\"A3\"\n",
        "        if strand == \"-\" : ty=\"A5\"\n",
        "        yield (ty,[(a,b) for b in k],m,f)\n",
        "      \n",
        "    k=[ b for b in filter(lambda x: x< a, r[a]) ]\n",
        "    if len(k) > 1: \n",
        "      m=numpy.array( [ r[a][b] for b in k] ).transpose()\n",
        "      for f in _psi_filter(m,mins,mind):\n",
        "        ty=\"A5\"\n",
        "        if strand == \"-\" : ty=\"A3\"\n",
        "        yield (ty,[(b,a) for b in k],m,f)\n",
        "\n",
        "  \n",
        "\n",
        "def count_unsp(x,y):\n",
        "  r={}\n",
        "  for i in count_intersect([ (i,i+1) for i in x],intv):\n",
        "    if(i[2] > 0):\n",
        "      r[i[0]]=r.get(i[0],0) + 1\n",
        "  return(r)\n",
        "count_unsp([1,2,3],[(2,3)])\n",
        "\n",
        "#{2: 1}\n",
        "\n",
        "#j1=interval_to_junction([[(1,2),(4,5)],[(1,2),(5,6)],[(1,2),(10,11)], [(1,2),(4,5)],[(1,2),(5,6)]])\n",
        "#j2=interval_to_junction([[(1,2),(4,5)]])\n",
        "#jj=join_junctions([j1,j2])\n",
        "jj={(134094644, 134099592): [133, 262], (134099781, 134102605): [144, 218], (134102749, 134106591): [140, 226], (134106688, 134109384): [192, 188], (134106688, 134109396): [1, 0], (134109550, 134113262): [121, 197], (134113313, 134116821): [3, 7], (134113414, 134116821): [123, 162], (134113414, 134116824): [15, 0], (134116866, 134116866): [7, 0], (134116935, 134117609): [155, 274], (134117775, 134118633): [172, 259], (134117775, 134120054): [1, 4], (134118754, 134120054): [190, 281], (134118679, 134118680): [1, 0], (134118754, 134121153): [1, 5], (134120230, 134121153): [137, 245], (134120487, 134121153): [2, 2], (134121275, 134124201): [159, 224], (134124280, 134126158): [162, 201], (134124280, 134124904): [3, 8], (134124280, 134125794): [3, 13], (134124280, 134124900): [1, 2], (134124953, 134125794): [5, 5], (134126241, 134130538): [184, 262], (134125911, 134126158): [7, 21], (134130703, 134131676): [169, 261], (134131839, 134143436): [159, 261], (134143630, 134146909): [162, 258], (134146984, 134146985): [1, 0], (134147047, 134147384): [195, 288], (134147534, 134152118): [159, 233], (134152292, 134153184): [60, 73], (134153403, 134154548): [173, 270], (134154693, 134162635): [210, 380], (134154693, 134164347): [1, 3], (134162709, 134164347): [175, 356], (134164403, 134164403): [1, 1], (134164435, 134169269): [1, 0], (134164435, 134190586): [2, 0], (134164506, 134164507): [2, 0], (134164552, 134190586): [4, 8], (134181901, 134190586): [55, 133], (134190851, 134193045): [1, 1], (134102749, 134109384): [0, 1], (134109475, 134109477): [0, 1], (134116935, 134118633): [0, 1], (134121226, 134121227): [0, 1], (134124953, 134126158): [0, 5], (134124657, 134124658): [0, 1], (134125276, 134125276): [0, 7], (134143630, 134146934): [0, 3], (134147462, 134147463): [0, 2], (134164506, 134164506): [0, 3], (134169312, 134190586): [0, 3], (134181426, 134190586): [0, 1], (134182552, 134190586): [0, 10]}\n",
        "\n",
        "for x in a35(jj,10,0.1,\"+\"):\n",
        "  print(x)"
      ],
      "execution_count": null,
      "outputs": [
        {
          "output_type": "error",
          "ename": "TypeError",
          "evalue": "ignored",
          "traceback": [
            "\u001b[0;31m---------------------------------------------------------------------------\u001b[0m",
            "\u001b[0;31mTypeError\u001b[0m                                 Traceback (most recent call last)",
            "\u001b[0;32m<ipython-input-18-9f45e8249617>\u001b[0m in \u001b[0;36m<module>\u001b[0;34m()\u001b[0m\n\u001b[1;32m    125\u001b[0m       \u001b[0mr\u001b[0m\u001b[0;34m[\u001b[0m\u001b[0mi\u001b[0m\u001b[0;34m[\u001b[0m\u001b[0;36m0\u001b[0m\u001b[0;34m]\u001b[0m\u001b[0;34m]\u001b[0m\u001b[0;34m=\u001b[0m\u001b[0mr\u001b[0m\u001b[0;34m.\u001b[0m\u001b[0mget\u001b[0m\u001b[0;34m(\u001b[0m\u001b[0mi\u001b[0m\u001b[0;34m[\u001b[0m\u001b[0;36m0\u001b[0m\u001b[0;34m]\u001b[0m\u001b[0;34m,\u001b[0m\u001b[0;36m0\u001b[0m\u001b[0;34m)\u001b[0m \u001b[0;34m+\u001b[0m \u001b[0;36m1\u001b[0m\u001b[0;34m\u001b[0m\u001b[0;34m\u001b[0m\u001b[0m\n\u001b[1;32m    126\u001b[0m   \u001b[0;32mreturn\u001b[0m\u001b[0;34m(\u001b[0m\u001b[0mr\u001b[0m\u001b[0;34m)\u001b[0m\u001b[0;34m\u001b[0m\u001b[0;34m\u001b[0m\u001b[0m\n\u001b[0;32m--> 127\u001b[0;31m \u001b[0mcount_unsp\u001b[0m\u001b[0;34m(\u001b[0m\u001b[0;34m[\u001b[0m\u001b[0;36m1\u001b[0m\u001b[0;34m,\u001b[0m\u001b[0;36m2\u001b[0m\u001b[0;34m,\u001b[0m\u001b[0;36m3\u001b[0m\u001b[0;34m]\u001b[0m\u001b[0;34m,\u001b[0m\u001b[0;34m[\u001b[0m\u001b[0;34m(\u001b[0m\u001b[0;36m2\u001b[0m\u001b[0;34m,\u001b[0m\u001b[0;36m3\u001b[0m\u001b[0;34m)\u001b[0m\u001b[0;34m]\u001b[0m\u001b[0;34m)\u001b[0m\u001b[0;34m\u001b[0m\u001b[0;34m\u001b[0m\u001b[0m\n\u001b[0m\u001b[1;32m    128\u001b[0m \u001b[0;34m\u001b[0m\u001b[0m\n\u001b[1;32m    129\u001b[0m \u001b[0mprint\u001b[0m\u001b[0;34m(\u001b[0m\u001b[0mcount_unsp\u001b[0m\u001b[0;34m(\u001b[0m\u001b[0;34m{\u001b[0m\u001b[0;34m(\u001b[0m\u001b[0;36m1\u001b[0m\u001b[0;34m,\u001b[0m\u001b[0;36m2\u001b[0m\u001b[0;34m)\u001b[0m\u001b[0;34m:\u001b[0m\u001b[0;36m12\u001b[0m\u001b[0;34m,\u001b[0m\u001b[0;34m(\u001b[0m\u001b[0;36m1\u001b[0m\u001b[0;34m,\u001b[0m\u001b[0;36m3\u001b[0m\u001b[0;34m)\u001b[0m\u001b[0;34m:\u001b[0m\u001b[0;36m13\u001b[0m\u001b[0;34m}\u001b[0m\u001b[0;34m,\u001b[0m\u001b[0;34m[\u001b[0m\u001b[0;34m(\u001b[0m\u001b[0;36m2\u001b[0m\u001b[0;34m,\u001b[0m\u001b[0;36m3\u001b[0m\u001b[0;34m)\u001b[0m\u001b[0;34m]\u001b[0m\u001b[0;34m)\u001b[0m\u001b[0;34m)\u001b[0m\u001b[0;34m\u001b[0m\u001b[0;34m\u001b[0m\u001b[0m\n",
            "\u001b[0;32m<ipython-input-18-9f45e8249617>\u001b[0m in \u001b[0;36mcount_unsp\u001b[0;34m(junc, intv)\u001b[0m\n\u001b[1;32m    119\u001b[0m \u001b[0;34m\u001b[0m\u001b[0m\n\u001b[1;32m    120\u001b[0m \u001b[0;32mdef\u001b[0m \u001b[0mcount_unsp\u001b[0m\u001b[0;34m(\u001b[0m\u001b[0mjunc\u001b[0m\u001b[0;34m,\u001b[0m\u001b[0mintv\u001b[0m\u001b[0;34m)\u001b[0m\u001b[0;34m:\u001b[0m\u001b[0;34m\u001b[0m\u001b[0;34m\u001b[0m\u001b[0m\n\u001b[0;32m--> 121\u001b[0;31m   \u001b[0mx\u001b[0m\u001b[0;34m=\u001b[0m\u001b[0mlist\u001b[0m\u001b[0;34m(\u001b[0m\u001b[0mset\u001b[0m\u001b[0;34m(\u001b[0m\u001b[0;34m[\u001b[0m \u001b[0mj\u001b[0m \u001b[0;32mfor\u001b[0m \u001b[0mi\u001b[0m \u001b[0;32min\u001b[0m \u001b[0mjunc\u001b[0m \u001b[0;32mfor\u001b[0m \u001b[0mj\u001b[0m \u001b[0;32min\u001b[0m \u001b[0mi\u001b[0m \u001b[0;34m]\u001b[0m\u001b[0;34m)\u001b[0m\u001b[0;34m)\u001b[0m\u001b[0;34m\u001b[0m\u001b[0;34m\u001b[0m\u001b[0m\n\u001b[0m\u001b[1;32m    122\u001b[0m   \u001b[0mr\u001b[0m\u001b[0;34m=\u001b[0m\u001b[0;34m{\u001b[0m\u001b[0;34m}\u001b[0m\u001b[0;34m\u001b[0m\u001b[0;34m\u001b[0m\u001b[0m\n\u001b[1;32m    123\u001b[0m   \u001b[0;32mfor\u001b[0m \u001b[0mi\u001b[0m \u001b[0;32min\u001b[0m \u001b[0mcount_intersect\u001b[0m\u001b[0;34m(\u001b[0m\u001b[0;34m[\u001b[0m \u001b[0;34m(\u001b[0m\u001b[0mi\u001b[0m\u001b[0;34m,\u001b[0m\u001b[0mi\u001b[0m\u001b[0;34m+\u001b[0m\u001b[0;36m1\u001b[0m\u001b[0;34m)\u001b[0m \u001b[0;32mfor\u001b[0m \u001b[0mi\u001b[0m \u001b[0;32min\u001b[0m \u001b[0mx\u001b[0m\u001b[0;34m]\u001b[0m\u001b[0;34m,\u001b[0m\u001b[0mintv\u001b[0m\u001b[0;34m)\u001b[0m\u001b[0;34m:\u001b[0m\u001b[0;34m\u001b[0m\u001b[0;34m\u001b[0m\u001b[0m\n",
            "\u001b[0;32m<ipython-input-18-9f45e8249617>\u001b[0m in \u001b[0;36m<listcomp>\u001b[0;34m(.0)\u001b[0m\n\u001b[1;32m    119\u001b[0m \u001b[0;34m\u001b[0m\u001b[0m\n\u001b[1;32m    120\u001b[0m \u001b[0;32mdef\u001b[0m \u001b[0mcount_unsp\u001b[0m\u001b[0;34m(\u001b[0m\u001b[0mjunc\u001b[0m\u001b[0;34m,\u001b[0m\u001b[0mintv\u001b[0m\u001b[0;34m)\u001b[0m\u001b[0;34m:\u001b[0m\u001b[0;34m\u001b[0m\u001b[0;34m\u001b[0m\u001b[0m\n\u001b[0;32m--> 121\u001b[0;31m   \u001b[0mx\u001b[0m\u001b[0;34m=\u001b[0m\u001b[0mlist\u001b[0m\u001b[0;34m(\u001b[0m\u001b[0mset\u001b[0m\u001b[0;34m(\u001b[0m\u001b[0;34m[\u001b[0m \u001b[0mj\u001b[0m \u001b[0;32mfor\u001b[0m \u001b[0mi\u001b[0m \u001b[0;32min\u001b[0m \u001b[0mjunc\u001b[0m \u001b[0;32mfor\u001b[0m \u001b[0mj\u001b[0m \u001b[0;32min\u001b[0m \u001b[0mi\u001b[0m \u001b[0;34m]\u001b[0m\u001b[0;34m)\u001b[0m\u001b[0;34m)\u001b[0m\u001b[0;34m\u001b[0m\u001b[0;34m\u001b[0m\u001b[0m\n\u001b[0m\u001b[1;32m    122\u001b[0m   \u001b[0mr\u001b[0m\u001b[0;34m=\u001b[0m\u001b[0;34m{\u001b[0m\u001b[0;34m}\u001b[0m\u001b[0;34m\u001b[0m\u001b[0;34m\u001b[0m\u001b[0m\n\u001b[1;32m    123\u001b[0m   \u001b[0;32mfor\u001b[0m \u001b[0mi\u001b[0m \u001b[0;32min\u001b[0m \u001b[0mcount_intersect\u001b[0m\u001b[0;34m(\u001b[0m\u001b[0;34m[\u001b[0m \u001b[0;34m(\u001b[0m\u001b[0mi\u001b[0m\u001b[0;34m,\u001b[0m\u001b[0mi\u001b[0m\u001b[0;34m+\u001b[0m\u001b[0;36m1\u001b[0m\u001b[0;34m)\u001b[0m \u001b[0;32mfor\u001b[0m \u001b[0mi\u001b[0m \u001b[0;32min\u001b[0m \u001b[0mx\u001b[0m\u001b[0;34m]\u001b[0m\u001b[0;34m,\u001b[0m\u001b[0mintv\u001b[0m\u001b[0;34m)\u001b[0m\u001b[0;34m:\u001b[0m\u001b[0;34m\u001b[0m\u001b[0;34m\u001b[0m\u001b[0m\n",
            "\u001b[0;31mTypeError\u001b[0m: 'int' object is not iterable"
          ]
        }
      ]
    },
    {
      "cell_type": "code",
      "metadata": {
        "id": "3wWPHWimUaEx",
        "colab_type": "code",
        "colab": {
          "base_uri": "https://localhost:8080/",
          "height": 360
        },
        "outputId": "4f153032-ff1c-4019-c1d1-7d687e33a53c"
      },
      "source": [
        "bamurls=['http://amc-sandbox.ucdenver.edu/User50/rebeccaSchweppe/hg19/SW1736_DasRes.bam',\n",
        "'http://amc-sandbox.ucdenver.edu/User50/rebeccaSchweppe/hg19/Sw1736_Control.bam']\n",
        "\n",
        "bamdb1= pysam.AlignmentFile(bamurls[0]);\n",
        "bamdb2= pysam.AlignmentFile(bamurls[1]);\n",
        "for k in GENE:\n",
        "  chrom=k[0][3:]\n",
        "  x=[ p for tx in GENE[k] for ex in GENE[k][tx] for p in ex]\n",
        "  xlim=(min(x),max(x))\n",
        "  i1= [ sam_to_interval(region) for region in bamdb1.fetch(chrom,xlim[0],xlim[1]) ]\n",
        "  j1=interval_to_junction(i1)\n",
        "  i2= [ sam_to_interval(region) for region in bamdb2.fetch(chrom,xlim[0],xlim[1]) ]\n",
        "  j2=interval_to_junction(i2)\n",
        "  #print(join_junctions([j1,j2]))\n",
        "  jj=join_junctions([j1,j2])\n",
        "\n",
        "  for ev in a35(jj,10,0.1,k[2]):\n",
        "    print(k,ev)\n",
        "  #jn=[ (i,i+1) for i in set([ j for i in ev[1] for j in i])]\n",
        "  #print(jn[2])\n",
        "  u1=[ i[0] for i in filter(lambda x: len(x)==1,i1)]\n",
        "\n",
        "  #plot_density(density_interval([ j for i in i1 for j in i]),k,xlim)\n",
        "  #plot_density(density_interval([ j for i in i2 for j in i]),k,xlim)\n",
        " \n",
        "  #plot_gene(ganno,k)\n",
        "  #for i in introns:\n",
        "   # if i[0] in ganno[k] and i[1]+1 in ganno[k]:\n",
        "    #  print(i)"
      ],
      "execution_count": null,
      "outputs": [
        {
          "output_type": "stream",
          "text": [
            "('chr5', 'DDX46', '+') ('A3', [(134113414, 134116821), (134113414, 134116824)], array([[123,  15],\n",
            "       [162,   0]]), array([[0.8913044 , 0.10869565],\n",
            "       [1.        , 0.        ]], dtype=float32))\n",
            "('chr5', 'DDX46', '+') ('A5', [(134124280, 134125794), (134124953, 134125794)], array([[ 3,  5],\n",
            "       [13,  5]]), array([[0.375    , 0.625    ],\n",
            "       [0.7222222, 0.2777778]], dtype=float32))\n",
            "('chr5', 'DDX46', '+') ('A3', [(134124953, 134125794), (134124953, 134126158)], array([[5, 0],\n",
            "       [5, 5]]), array([[1. , 0. ],\n",
            "       [0.5, 0.5]], dtype=float32))\n",
            "('chr8', 'PTK2', '-') ('A3', [(141900867, 142011222), (141958821, 142011222), (141935847, 142011222), (141994253, 142011222)], array([[32, 10, 31,  7],\n",
            "       [33,  0, 31, 10]]), array([[0.4       , 0.125     , 0.3875    , 0.0875    ],\n",
            "       [0.44594595, 0.        , 0.4189189 , 0.13513513]], dtype=float32))\n",
            "('chr8', 'PTK2', '-') ('A3', [(141900867, 141958763), (141935847, 141958763)], array([[ 6, 10],\n",
            "       [ 0,  2]]), array([[0.375, 0.625],\n",
            "       [0.   , 1.   ]], dtype=float32))\n",
            "('chr8', 'PTK2', '-') ('A5', [(141935847, 142011222), (141935847, 141958763), (141935847, 141993939), (141935847, 142010977), (141935847, 142012111)], array([[31, 10,  2,  2,  0],\n",
            "       [31,  2,  0,  2,  2]]), array([[0.6888889 , 0.22222222, 0.04444445, 0.04444445, 0.        ],\n",
            "       [0.8378378 , 0.05405406, 0.        , 0.05405406, 0.05405406]],\n",
            "      dtype=float32))\n"
          ],
          "name": "stdout"
        }
      ]
    },
    {
      "cell_type": "markdown",
      "metadata": {
        "id": "SLyLtsKllXdT",
        "colab_type": "text"
      },
      "source": [
        "## RNA-seq Simulator\n",
        "A simple simulator generates RNA-seq reads that can be used in our pipelines. We define a transcript loction in a genome using a set of exonic intervals. Multiple RNA\n",
        " isoforms defined in a genome determin alternative splicing forms and events. "
      ]
    },
    {
      "cell_type": "code",
      "metadata": {
        "id": "GhVClyMjwsBl",
        "colab_type": "code",
        "colab": {
          "base_uri": "https://localhost:8080/",
          "height": 34
        },
        "outputId": "11369da4-fe61-4617-f32d-3b81eeaa5092"
      },
      "source": [
        "t1=[(100,200),(300,400),(500,600)]\n",
        "t2=[(100,200),(300,400),(500,600)]\n",
        "\n",
        "j=[ { \"a\": 1 , \"b\" :2 }, {\"c\":3} ]\n",
        "x=[ i[k] for i in j for k in i ]\n",
        "print(x)"
      ],
      "execution_count": null,
      "outputs": [
        {
          "output_type": "stream",
          "text": [
            "[1, 2, 3]\n"
          ],
          "name": "stdout"
        }
      ]
    },
    {
      "cell_type": "markdown",
      "metadata": {
        "id": "FRIGtWDaO8NM",
        "colab_type": "text"
      },
      "source": [
        "## Splicing Events\n",
        "alternative 3' choice : \n",
        "\n",
        "\n"
      ]
    },
    {
      "cell_type": "markdown",
      "metadata": {
        "id": "3SjVCQk5OuMF",
        "colab_type": "text"
      },
      "source": [
        ""
      ]
    },
    {
      "cell_type": "code",
      "metadata": {
        "id": "W-TQ2EoIRQUQ",
        "colab_type": "code",
        "colab": {
          "base_uri": "https://localhost:8080/",
          "height": 368
        },
        "outputId": "87560dc0-a8c4-46fd-9f28-040f34f9dcba"
      },
      "source": [
        "#!pip install ncls\n",
        "from ncls import NCLS\n",
        "import pandas as pd\n",
        "import numpy as np\n",
        "\n",
        "starts = pd.Series(range(0, 5))\n",
        "ends = starts + 100\n",
        "ids = starts\n",
        "\n",
        "subject_df = pd.DataFrame({\"Start\": starts, \"End\": ends}, index=ids)\n",
        "\n",
        "print(subject_df)\n",
        "#    Start  End\n",
        "# 0      0  100\n",
        "# 1      1  101\n",
        "# 2      2  102\n",
        "# 3      3  103\n",
        "# 4      4  104\n",
        "x=np.array([1,2,3], dtype=np.int64)\n",
        "ncls = NCLS(x,x+1,x)\n",
        "\n",
        "#ncls = NCLS(starts.values, ends.values, ids.values)\n",
        "\n",
        "# python API, slower\n",
        "it = ncls.find_overlap(1, 3)\n",
        "for i in it:\n",
        "    print(i)\n"
      ],
      "execution_count": null,
      "outputs": [
        {
          "output_type": "error",
          "ename": "ModuleNotFoundError",
          "evalue": "ignored",
          "traceback": [
            "\u001b[0;31m---------------------------------------------------------------------------\u001b[0m",
            "\u001b[0;31mModuleNotFoundError\u001b[0m                       Traceback (most recent call last)",
            "\u001b[0;32m<ipython-input-1-83659254d289>\u001b[0m in \u001b[0;36m<module>\u001b[0;34m()\u001b[0m\n\u001b[1;32m      1\u001b[0m \u001b[0;31m#!pip install ncls\u001b[0m\u001b[0;34m\u001b[0m\u001b[0;34m\u001b[0m\u001b[0;34m\u001b[0m\u001b[0m\n\u001b[0;32m----> 2\u001b[0;31m \u001b[0;32mfrom\u001b[0m \u001b[0mncls\u001b[0m \u001b[0;32mimport\u001b[0m \u001b[0mNCLS\u001b[0m\u001b[0;34m\u001b[0m\u001b[0;34m\u001b[0m\u001b[0m\n\u001b[0m\u001b[1;32m      3\u001b[0m \u001b[0;32mimport\u001b[0m \u001b[0mpandas\u001b[0m \u001b[0;32mas\u001b[0m \u001b[0mpd\u001b[0m\u001b[0;34m\u001b[0m\u001b[0;34m\u001b[0m\u001b[0m\n\u001b[1;32m      4\u001b[0m \u001b[0;32mimport\u001b[0m \u001b[0mnumpy\u001b[0m \u001b[0;32mas\u001b[0m \u001b[0mnp\u001b[0m\u001b[0;34m\u001b[0m\u001b[0;34m\u001b[0m\u001b[0m\n\u001b[1;32m      5\u001b[0m \u001b[0;34m\u001b[0m\u001b[0m\n",
            "\u001b[0;31mModuleNotFoundError\u001b[0m: No module named 'ncls'",
            "",
            "\u001b[0;31m---------------------------------------------------------------------------\u001b[0;32m\nNOTE: If your import is failing due to a missing package, you can\nmanually install dependencies using either !pip or !apt.\n\nTo view examples of installing some common dependencies, click the\n\"Open Examples\" button below.\n\u001b[0;31m---------------------------------------------------------------------------\u001b[0m\n"
          ]
        }
      ]
    },
    {
      "cell_type": "code",
      "metadata": {
        "id": "EY1ec3l_WcnC",
        "colab_type": "code",
        "colab": {
          "base_uri": "https://localhost:8080/",
          "height": 405
        },
        "outputId": "17c8c702-91f8-40c0-d27f-7d2bc8140d77"
      },
      "source": [
        "## parameters of simulation\n",
        "T1=[(100,200),(500,600)] \n",
        "T2=[(100,200),(300,400),(500,600)]\n",
        "N1=100\n",
        "N2=200\n",
        "READLEN=50\n",
        "\n",
        "'''\n",
        " convert transcriptional positions to genomic positions\n",
        "'''\n",
        "def tx2gx(interval,annotation): # t is transcript\n",
        "  (s,e)=interval\n",
        "  x=0 ## transcript pos\n",
        "  r=[]\n",
        "  for i in range(len(annotation)):\n",
        "    es=annotation[i][0] # exon start\n",
        "    ee=annotation[i][1] # exon end\n",
        "    l=ee-es # exon len\n",
        "    if s < x + l and e > x: # overlapping\n",
        "      r.append((max(x,s)+es-x,min(x+l,e)+es-x)) ## [es  s ee]-----[es e   ee]\n",
        "    x=x+l\n",
        "  return r\n",
        "#print(tx2gx((50,250),T1))\n",
        "\n",
        "from numpy import random\n",
        "\n",
        "'''\n",
        "generate list of list of intervals\n",
        "'''\n",
        "def gen_alignment(transcript, readlen, readnum):\n",
        "  l=0\n",
        "  for i in transcript:\n",
        "    l=l+i[1]-i[0]\n",
        "  return [ tx2gx( (i,i+readlen),transcript)  \\\n",
        "          for i in sorted(random.randint( \\\n",
        "              l-readlen+1,\n",
        "              size=(readnum)))]\n",
        "#print( gen_alignment(T1,50,100) )\n",
        "\n",
        "from numpy import random\n",
        "from matplotlib import pyplot as plt\n",
        "import pandas as pd\n",
        "import numpy as np\n",
        "import sys\n",
        "import pysam\n",
        "import pybedtools\n",
        "import re\n",
        "\n",
        "print(anno)\n",
        "\n",
        "\n",
        "''' definitions\n",
        " interval : (start,end)\n",
        " count interval  : (start,end,count)\n",
        " splicing count interval : [ count interval ]\n",
        "\n",
        "'''\n",
        "\n",
        "## parse transcript\n",
        "def parset(t):\n",
        "  l=0\n",
        "  exon=[]\n",
        "  for x in t.split(\"^\"):\n",
        "    e=list(map(int, x.split(\"-\")))\n",
        "    l = l + e[1]-e[0]\n",
        "    exon.append(e)\n",
        "  sorted(exon,key=lambda x : x[0] )\n",
        "  return(l,exon)\n",
        "\n",
        "'''\n",
        "  convert a continuous transcript interval \n",
        "  to its genomic (spliced) interval\n",
        "'''\n",
        "\n",
        "\n",
        "'''\n",
        "generate spliced alignments \n",
        "'''\n",
        "\n",
        "\n",
        "\n",
        "\n",
        "def count_interval(alignment):\n",
        "  z=dict()\n",
        "  for y in [ j for i in alignment for j in i]:\n",
        "    z[y[0]]=z.get(y[0],0) +1\n",
        "    z[y[1]]=z.get(y[1],0) -1\n",
        "  c=0;\n",
        "  r=[]\n",
        "  z1=sorted(z.keys())\n",
        "  for i in range(len(z1)-1): \n",
        "    c=c+z[z1[i]];\n",
        "    r.append((z1[i],z1[i+1],c))\n",
        "  return r\n",
        "def plot1(intervalcount):\n",
        "  x=[ j for i in intervalcount for j in i[0:2] ]\n",
        "  y=[ j for i in intervalcount for j in [i[2],i[2]] ]\n",
        "  plt.fill_between(x, y)\n",
        "  plt.show()\n",
        "\n",
        "def count_junction(alignment):\n",
        "  r=dict()\n",
        "  for a in alignment:\n",
        "    for i in range(len(a)-1):\n",
        "      j=(a[i][1],a[i+1][0])\n",
        "      r[j]=r.get(j,0) + 1 \n",
        "  return r\n",
        "\n",
        "#TPM=rpb/sum_rpb * 10^6\n",
        "alignment1=gen_alignment(T1,READLEN,N1)\n",
        "alignment2=gen_alignment(T2,READLEN,N2)\n",
        "intervalcount=count_interval(alignment1+alignment2)\n",
        "plot1(intervalcount)\n",
        "jcount=count_junction(alignment1+alignment2)\n",
        "\n",
        "\n",
        "#df=pd.DataFrame({'x': x, 'y' : y} )\n",
        "#plt.plot('x','y',data=df)\n",
        "#plt.show()\n",
        "\n",
        "#y=[1,1,2,2,3,3]\n",
        "#x=[1,4,4,5,6,6]\n",
        "\n",
        "  \n",
        "'''\n",
        "url='http://amc-sandbox.ucdenver.edu/User50/632-KDM5A.bam'\n",
        "d= pysam.AlignmentFile(url);\n",
        "for ref in d.references:\n",
        "  intron=d.find_introns( region for region in d.fetch(ref) )\n",
        "  print(ref,len(intron))\n",
        "'''\n",
        "\n",
        "#  print(region)\n",
        " # print(region.find_introns())\n",
        " # print(sam_to_interval(region))\n",
        "#  print(d.find_introns((region)))\n",
        "  #coordinates,up_to_intron_dist = getSpliceSites(entry.cigar,X)\n",
        "\n"
      ],
      "execution_count": null,
      "outputs": [
        {
          "output_type": "stream",
          "text": [
            "[[(102, 152)], [(102, 152)], [(103, 153)], [(104, 154)], [(108, 158)], [(109, 159)], [(113, 163)], [(114, 164)], [(114, 164)], [(122, 172)], [(122, 172)], [(123, 173)], [(127, 177)], [(127, 177)], [(129, 179)], [(131, 181)], [(133, 183)], [(135, 185)], [(136, 186)], [(137, 187)], [(139, 189)], [(141, 191)], [(144, 194)], [(148, 198)], [(149, 199)], [(152, 200), (500, 502)], [(153, 200), (500, 503)], [(153, 200), (500, 503)], [(153, 200), (500, 503)], [(155, 200), (500, 505)], [(157, 200), (500, 507)], [(157, 200), (500, 507)], [(158, 200), (500, 508)], [(159, 200), (500, 509)], [(162, 200), (500, 512)], [(164, 200), (500, 514)], [(170, 200), (500, 520)], [(170, 200), (500, 520)], [(171, 200), (500, 521)], [(171, 200), (500, 521)], [(171, 200), (500, 521)], [(172, 200), (500, 522)], [(172, 200), (500, 522)], [(173, 200), (500, 523)], [(173, 200), (500, 523)], [(178, 200), (500, 528)], [(180, 200), (500, 530)], [(182, 200), (500, 532)], [(186, 200), (500, 536)], [(186, 200), (500, 536)], [(187, 200), (500, 537)], [(187, 200), (500, 537)], [(189, 200), (500, 539)], [(192, 200), (500, 542)], [(193, 200), (500, 543)], [(193, 200), (500, 543)], [(193, 200), (500, 543)], [(194, 200), (500, 544)], [(194, 200), (500, 544)], [(196, 200), (500, 546)], [(196, 200), (500, 546)], [(197, 200), (500, 547)], [(197, 200), (500, 547)], [(197, 200), (500, 547)], [(501, 551)], [(501, 551)], [(502, 552)], [(502, 552)], [(503, 553)], [(503, 553)], [(504, 554)], [(507, 557)], [(507, 557)], [(508, 558)], [(512, 562)], [(514, 564)], [(517, 567)], [(518, 568)], [(519, 569)], [(519, 569)], [(519, 569)], [(520, 570)], [(521, 571)], [(523, 573)], [(525, 575)], [(526, 576)], [(528, 578)], [(529, 579)], [(530, 580)], [(533, 583)], [(534, 584)], [(538, 588)], [(538, 588)], [(539, 589)], [(542, 592)], [(548, 598)], [(548, 598)], [(548, 598)], [(548, 598)], [(550, 600)]]\n"
          ],
          "name": "stdout"
        },
        {
          "output_type": "error",
          "ename": "ModuleNotFoundError",
          "evalue": "ignored",
          "traceback": [
            "\u001b[0;31m---------------------------------------------------------------------------\u001b[0m",
            "\u001b[0;31mModuleNotFoundError\u001b[0m                       Traceback (most recent call last)",
            "\u001b[0;32m<ipython-input-11-68d34f3f11ed>\u001b[0m in \u001b[0;36m<module>\u001b[0;34m()\u001b[0m\n\u001b[1;32m     36\u001b[0m \u001b[0;32mimport\u001b[0m \u001b[0mnumpy\u001b[0m \u001b[0;32mas\u001b[0m \u001b[0mnp\u001b[0m\u001b[0;34m\u001b[0m\u001b[0;34m\u001b[0m\u001b[0m\n\u001b[1;32m     37\u001b[0m \u001b[0;32mimport\u001b[0m \u001b[0msys\u001b[0m\u001b[0;34m\u001b[0m\u001b[0;34m\u001b[0m\u001b[0m\n\u001b[0;32m---> 38\u001b[0;31m \u001b[0;32mimport\u001b[0m \u001b[0mpysam\u001b[0m\u001b[0;34m\u001b[0m\u001b[0;34m\u001b[0m\u001b[0m\n\u001b[0m\u001b[1;32m     39\u001b[0m \u001b[0;32mimport\u001b[0m \u001b[0mpybedtools\u001b[0m\u001b[0;34m\u001b[0m\u001b[0;34m\u001b[0m\u001b[0m\n\u001b[1;32m     40\u001b[0m \u001b[0;32mimport\u001b[0m \u001b[0mre\u001b[0m\u001b[0;34m\u001b[0m\u001b[0;34m\u001b[0m\u001b[0m\n",
            "\u001b[0;31mModuleNotFoundError\u001b[0m: No module named 'pysam'",
            "",
            "\u001b[0;31m---------------------------------------------------------------------------\u001b[0;32m\nNOTE: If your import is failing due to a missing package, you can\nmanually install dependencies using either !pip or !apt.\n\nTo view examples of installing some common dependencies, click the\n\"Open Examples\" button below.\n\u001b[0;31m---------------------------------------------------------------------------\u001b[0m\n"
          ]
        }
      ]
    },
    {
      "cell_type": "markdown",
      "metadata": {
        "id": "saD_r5KDisYU",
        "colab_type": "text"
      },
      "source": [
        "## Extract gene annotations of target genes"
      ]
    },
    {
      "cell_type": "code",
      "metadata": {
        "id": "fGoi5JEofGcn",
        "colab_type": "code",
        "colab": {
          "base_uri": "https://localhost:8080/",
          "height": 34
        },
        "outputId": "e2a68179-d47b-4a68-e53f-9717a79265f2"
      },
      "source": [
        "%%bash\n",
        "samtools\n",
        "#import subprocess\n",
        "#r=subprocess.run([ \"python\", \"sashimi-plot.py -b bam.tsv -g \",GTF,\" -c 11:65819816-65836382\"])\n",
        "#print(r)\n",
        "#%%bash\n",
        "#echo $gtf\n",
        "#python sashimi-plot.py -b \"bam.tsv\" -g $gtf -c 11:65819816-65836382 \n",
        "#-C 2 --base-size=20 --ann-height=4 --height=3 --width=18\n"
      ],
      "execution_count": null,
      "outputs": [
        {
          "output_type": "stream",
          "text": [
            "bash: line 1: samtools: command not found\n"
          ],
          "name": "stderr"
        }
      ]
    },
    {
      "cell_type": "code",
      "metadata": {
        "id": "e5AhKcaOAxBO",
        "colab_type": "code",
        "colab": {}
      },
      "source": [
        "import glob\n",
        "from google.colab import drive\n",
        "drive.mount('/content/drive')\n"
      ],
      "execution_count": null,
      "outputs": []
    },
    {
      "cell_type": "code",
      "metadata": {
        "id": "jmnwTHr5wHSN",
        "colab_type": "code",
        "colab": {
          "base_uri": "https://localhost:8080/",
          "height": 232
        },
        "outputId": "b66c248e-0048-4184-fff5-178d11b30626"
      },
      "source": [
        "import matplotlib.pyplot as plt \n",
        "def plot_gene(ganno,k):\n",
        "  plt.figure(figsize=(20,ganno[k][\"tx.size\"]*0.2))\n",
        "  ax=plt.axes()\n",
        "  ax.set_title(k)\n",
        "  plt.yticks([])\n",
        "  #ax.set_ylim(0,10*len(ganno[k].keys()))\n",
        "  i=0\n",
        "  for t in ganno[k][\"tx\"]:\n",
        "    x=[ (i[0],i[1]-i[0]) for i in ganno[k][\"tx\"][t].keys() ]\n",
        "    ax.broken_barh(x, (10*i,5),facecolors='tab:blue')\n",
        "    i += 1\n",
        "  plt.show()\n",
        "for k in GENE:\n",
        "  gene_plot(GENE,k)\n",
        "  plt.show()\n",
        "\n",
        "  #if k!=('chr7','IGFBP1','+') : continue \n",
        "  #if k!= ('chr3','U2SURP','+') : continue #('chr11','SF3B2','+') : continue \n",
        "\n",
        "\n",
        "#ax1.broken_barh([(110, 30), (150, 10)], (10, 10), facecolors='tab:blue')\n",
        "#ax.broken_barh([(10, 50), (100, 20), (130, 10)], (15, 10),\n",
        " #              facecolors=('tab:orange', 'tab:green', 'tab:red'))\n",
        "#ax.set_ylim(5, 35)\n",
        "#ax.set_xlim(0, 200)\n",
        "#ax.set_xlabel('seconds since start')\n",
        "#ax.set_yticks([15, 25])\n",
        "#ax.set_yticklabels(['Bill', 'Jim'])\n",
        "#ax.grid(True)\n",
        "#ax.annotate('race interrupted', (61, 25),\n",
        " #           xytext=(0.8, 0.9), textcoords='axes fraction',\n",
        "  #          arrowprops=dict(facecolor='black', shrink=0.05),\n",
        "   #         fontsize=16,\n",
        "    #        horizontalalignment='right', verticalalignment='top')\n",
        "\n"
      ],
      "execution_count": null,
      "outputs": [
        {
          "output_type": "error",
          "ename": "NameError",
          "evalue": "ignored",
          "traceback": [
            "\u001b[0;31m---------------------------------------------------------------------------\u001b[0m",
            "\u001b[0;31mNameError\u001b[0m                                 Traceback (most recent call last)",
            "\u001b[0;32m<ipython-input-23-d27e9f8ed13c>\u001b[0m in \u001b[0;36m<module>\u001b[0;34m()\u001b[0m\n\u001b[1;32m     13\u001b[0m   \u001b[0mplt\u001b[0m\u001b[0;34m.\u001b[0m\u001b[0mshow\u001b[0m\u001b[0;34m(\u001b[0m\u001b[0;34m)\u001b[0m\u001b[0;34m\u001b[0m\u001b[0;34m\u001b[0m\u001b[0m\n\u001b[1;32m     14\u001b[0m \u001b[0;32mfor\u001b[0m \u001b[0mk\u001b[0m \u001b[0;32min\u001b[0m \u001b[0mGENE\u001b[0m\u001b[0;34m:\u001b[0m\u001b[0;34m\u001b[0m\u001b[0;34m\u001b[0m\u001b[0m\n\u001b[0;32m---> 15\u001b[0;31m   \u001b[0mgene_plot\u001b[0m\u001b[0;34m(\u001b[0m\u001b[0mGENE\u001b[0m\u001b[0;34m,\u001b[0m\u001b[0mk\u001b[0m\u001b[0;34m)\u001b[0m\u001b[0;34m\u001b[0m\u001b[0;34m\u001b[0m\u001b[0m\n\u001b[0m\u001b[1;32m     16\u001b[0m   \u001b[0mplt\u001b[0m\u001b[0;34m.\u001b[0m\u001b[0mshow\u001b[0m\u001b[0;34m(\u001b[0m\u001b[0;34m)\u001b[0m\u001b[0;34m\u001b[0m\u001b[0;34m\u001b[0m\u001b[0m\n\u001b[1;32m     17\u001b[0m \u001b[0;34m\u001b[0m\u001b[0m\n",
            "\u001b[0;31mNameError\u001b[0m: name 'gene_plot' is not defined"
          ]
        }
      ]
    },
    {
      "cell_type": "markdown",
      "metadata": {
        "id": "MzsNAdbTwz2-",
        "colab_type": "text"
      },
      "source": [
        "## Define some functions"
      ]
    },
    {
      "cell_type": "code",
      "metadata": {
        "id": "YhdIvUXrww3B",
        "colab_type": "code",
        "colab": {}
      },
      "source": [
        "\n",
        "\n",
        "\n",
        "\n"
      ],
      "execution_count": null,
      "outputs": []
    },
    {
      "cell_type": "markdown",
      "metadata": {
        "id": "DvD-WDSbWEbP",
        "colab_type": "text"
      },
      "source": [
        "# Simulate RNA-seq\n"
      ]
    },
    {
      "cell_type": "code",
      "metadata": {
        "id": "_IooIEYaa-IH",
        "colab_type": "code",
        "colab": {}
      },
      "source": [
        ""
      ],
      "execution_count": null,
      "outputs": []
    },
    {
      "cell_type": "code",
      "metadata": {
        "id": "NQqocf5DO947",
        "colab_type": "code",
        "colab": {
          "base_uri": "https://localhost:8080/",
          "height": 503
        },
        "outputId": "fa5f19cb-19a4-4dc0-df62-94de7e14f1da"
      },
      "source": [
        "from matplotlib import pyplot as plt\n",
        "import pandas as pd\n",
        "import numpy as np\n",
        " \n",
        "# Create data\n",
        "df=pd.DataFrame({'x': range(1,101), 'y': np.random.randn(100)*15+range(1,101), 'z': (np.random.randn(100)*15+range(1,101))*2 })\n",
        "df \n",
        "# plot with matplotlib\n",
        "plt.plot( 'x', 'y', data=df, marker='o', color='mediumvioletred')\n",
        "plot.show()\n"
      ],
      "execution_count": null,
      "outputs": [
        {
          "output_type": "stream",
          "text": [
            "/usr/local/lib/python3.6/dist-packages/ipykernel_launcher.py:9: RuntimeWarning: Second argument 'y' is ambiguous: could be a format string but is in 'data'; using as data.  If it was intended as data, set the format string to an empty string to suppress this warning.  If it was intended as a format string, explicitly pass the x-values as well.  Alternatively, rename the entry in 'data'.\n",
            "  if __name__ == '__main__':\n"
          ],
          "name": "stderr"
        },
        {
          "output_type": "error",
          "ename": "NameError",
          "evalue": "ignored",
          "traceback": [
            "\u001b[0;31m---------------------------------------------------------------------------\u001b[0m",
            "\u001b[0;31mNameError\u001b[0m                                 Traceback (most recent call last)",
            "\u001b[0;32m<ipython-input-8-e6e0cc219d26>\u001b[0m in \u001b[0;36m<module>\u001b[0;34m()\u001b[0m\n\u001b[1;32m      8\u001b[0m \u001b[0;31m# plot with matplotlib\u001b[0m\u001b[0;34m\u001b[0m\u001b[0;34m\u001b[0m\u001b[0;34m\u001b[0m\u001b[0m\n\u001b[1;32m      9\u001b[0m \u001b[0mplt\u001b[0m\u001b[0;34m.\u001b[0m\u001b[0mplot\u001b[0m\u001b[0;34m(\u001b[0m \u001b[0;34m'x'\u001b[0m\u001b[0;34m,\u001b[0m \u001b[0;34m'y'\u001b[0m\u001b[0;34m,\u001b[0m \u001b[0mdata\u001b[0m\u001b[0;34m=\u001b[0m\u001b[0mdf\u001b[0m\u001b[0;34m,\u001b[0m \u001b[0mmarker\u001b[0m\u001b[0;34m=\u001b[0m\u001b[0;34m'o'\u001b[0m\u001b[0;34m,\u001b[0m \u001b[0mcolor\u001b[0m\u001b[0;34m=\u001b[0m\u001b[0;34m'mediumvioletred'\u001b[0m\u001b[0;34m)\u001b[0m\u001b[0;34m\u001b[0m\u001b[0;34m\u001b[0m\u001b[0m\n\u001b[0;32m---> 10\u001b[0;31m \u001b[0mplot\u001b[0m\u001b[0;34m.\u001b[0m\u001b[0mshow\u001b[0m\u001b[0;34m(\u001b[0m\u001b[0;34m)\u001b[0m\u001b[0;34m\u001b[0m\u001b[0;34m\u001b[0m\u001b[0m\n\u001b[0m",
            "\u001b[0;31mNameError\u001b[0m: name 'plot' is not defined"
          ]
        },
        {
          "output_type": "display_data",
          "data": {
            "image/png": "[encoded data removed]",
            "text/plain": [
              "<Figure size 432x288 with 1 Axes>"
            ]
          },
          "metadata": {
            "tags": [],
            "needs_background": "light"
          }
        }
      ]
    },
    {
      "cell_type": "markdown",
      "metadata": {
        "id": "V2SQ2xE0WFU3",
        "colab_type": "text"
      },
      "source": [
        "# New Section"
      ]
    },
    {
      "cell_type": "code",
      "metadata": {
        "id": "7O6BpL0mdVmk",
        "colab_type": "code",
        "colab": {
          "base_uri": "https://localhost:8080/",
          "height": 34
        },
        "outputId": "76cb326e-4f0b-49b1-9ad7-b870602629ac"
      },
      "source": [
        "a=[1,2,3]\n",
        "print(a[0:2])"
      ],
      "execution_count": null,
      "outputs": [
        {
          "output_type": "stream",
          "text": [
            "[1, 2]\n"
          ],
          "name": "stdout"
        }
      ]
    },
    {
      "cell_type": "markdown",
      "metadata": {
        "id": "M6D9PCcIWGJl",
        "colab_type": "text"
      },
      "source": [
        "# New Section"
      ]
    },
    {
      "cell_type": "markdown",
      "metadata": {
        "id": "H9nKflGkWMmc",
        "colab_type": "text"
      },
      "source": [
        "# Useful Links\n",
        "https://github.com/flemingtonlab/SpliceV/blob/master/bin/SpliceV\n"
      ]
    }
  ]
}